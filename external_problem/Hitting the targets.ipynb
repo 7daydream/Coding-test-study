{
 "cells": [
  {
   "cell_type": "markdown",
   "metadata": {},
   "source": [
    "# Hitting the Targets\n",
    "---\n",
    "백준 10497번 문제 \n",
    "\n",
    "\n",
    "https://www.acmicpc.net/problem/10497"
   ]
  },
  {
   "cell_type": "code",
   "execution_count": 1,
   "metadata": {},
   "outputs": [
    {
     "name": "stdout",
     "output_type": "stream",
     "text": [
      "3\n",
      "rectangle 1 1 10 5\n",
      "circle 5 0 8\n",
      "rectangle -5 3 5 8\n",
      "5\n",
      "1 1\n",
      "2\n",
      "4 5\n",
      "3\n",
      "10 10\n",
      "0\n",
      "-10 -1\n",
      "0\n",
      "4 -3\n",
      "1\n"
     ]
    }
   ],
   "source": [
    "m = int(input())\n",
    "cir = [[0] * 3 for _ in range(30)]\n",
    "rect = [[0] * 4 for _ in range(30)]\n",
    "for i in range(0,m):\n",
    "    data = list(map(str, input().split()))\n",
    "    if data[0] == \"rectangle\": \n",
    "        rect[i] = [int(data[1]), int(data[2]), int(data[3]), int(data[4])]\n",
    "    else:\n",
    "        cir[i] = [int(data[1]), int(data[2]), int(data[3])]\n",
    "\n",
    "n = int(input())\n",
    "for i in range(0,n):\n",
    "    count = 0\n",
    "    xpos, ypos = map(int, input().split())\n",
    "    #rect\n",
    "    for j in range(30):\n",
    "        if rect[j][0] == 0 and rect[j][2] == 0:\n",
    "            continue\n",
    "        else:\n",
    "            if (rect[j][0] <= xpos and xpos <= rect[j][2]) and (rect[j][1] <= ypos and ypos <= rect[j][3]):\n",
    "                count = count + 1\n",
    "    #circle\n",
    "    for j in range(30):\n",
    "        if cir[j][2] == 0:\n",
    "            continue\n",
    "        else:\n",
    "            tmp = ((xpos-cir[j][0])**2 + (ypos-cir[j][1])**2) ** (1/2)\n",
    "            if tmp <= cir[j][2]:\n",
    "                count = count + 1\n",
    "    \n",
    "    print(count)"
   ]
  },
  {
   "cell_type": "markdown",
   "metadata": {},
   "source": [
    "# 회고\n",
    "\n",
    "어려운 문제는 아니었던 것 같은데 파이썬 문법이 익숙지 않아서 제출횟수를 너무 많이 써버렸다..\n",
    "프로그래머스에서는 바로바로 코드를 돌려보면서 코딩했었는데 백준에서는 내가 쓰는 환경에서 코드를 돌려보고 제출을 해야겠다.\n",
    "\n",
    "먼저 문제를 보고 들었던 생각은 입력 문제였다. \n",
    "처음으로 파이썬의 리스트 컴프리헨션을 사용했다.\n",
    "\n",
    "아래의 문법을 잘 기억해두고 사용해야겠다.\n",
    "```Python\n",
    "# N * M 크기의 리스트를 0으로 초기화하는 경우\n",
    "list1 = [[0] * M for _ in range(N)]\n",
    "```\n",
    "\n",
    "계속 입력 타입이 잘못되었다는 오류를 많이 접해서 삽질을 했다..\n",
    "\n",
    "문제는 오히려 두 번 만질 필요없이 한 번에 잘 플려서 다행이다.\n",
    "\n",
    "rectangle인지 circle인지를 먼저 구분하고 각각 저장해준 다음\n",
    "각 n개의 좌표를 입력받을때마다 count를 출력해주는 방식을 생각했고 바로 구현에 들어갔다.\n",
    "\n",
    "rectangle과 좌표 비교는 x좌표가 x1, x2 사이, y좌표가 y1, y2 사이에 있는지를 검사하고\n",
    "circle이면 xpos, ypos 좌표와 원의 중심 좌표의 길이를 제곱근을 이용하여 구하고 r보다 작은지를 검사하면 된다.\n",
    "math함수는 쓰지 않고 그냥 직접 ```**``` 연산자를 이용하여 계산을 했다.\n",
    "\n",
    "암튼 다음부터는 제출횟수 남발을 줄여야 겠다..."
   ]
  }
 ],
 "metadata": {
  "kernelspec": {
   "display_name": "Python 3",
   "language": "python",
   "name": "python3"
  },
  "language_info": {
   "codemirror_mode": {
    "name": "ipython",
    "version": 3
   },
   "file_extension": ".py",
   "mimetype": "text/x-python",
   "name": "python",
   "nbconvert_exporter": "python",
   "pygments_lexer": "ipython3",
   "version": "3.8.3"
  }
 },
 "nbformat": 4,
 "nbformat_minor": 4
}
