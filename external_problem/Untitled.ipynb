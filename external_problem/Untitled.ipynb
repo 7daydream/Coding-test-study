{
 "cells": [
  {
   "cell_type": "markdown",
   "metadata": {},
   "source": [
    "# 오픈채팅방\n",
    "---\n",
    "\n",
    "**문제확인**\n",
    "\n",
    "https://programmers.co.kr/learn/courses/30/lessons/42888?language=python3\n"
   ]
  },
  {
   "cell_type": "code",
   "execution_count": 1,
   "metadata": {},
   "outputs": [],
   "source": [
    "def solution(record):\n",
    "    answer = []\n",
    "    \n",
    "    print(record)\n",
    "    return answer"
   ]
  },
  {
   "cell_type": "code",
   "execution_count": 8,
   "metadata": {},
   "outputs": [
    {
     "name": "stdout",
     "output_type": "stream",
     "text": [
      "[1, 2, 0, 4]\n"
     ]
    }
   ],
   "source": [
    "answer1 = [1,2,3,4]\n",
    "answer1[2] = 0\n",
    "print(answer1)"
   ]
  },
  {
   "cell_type": "markdown",
   "metadata": {},
   "source": [
    "# 회고\n",
    "책의 연습문제가 아닌 실전 문제를 풀어보자는 취지에서 시작했다. \n",
    "문제 자체는 어렵게 느껴지지 않았지만 문자열을 다루는 능력이 필요할 것으로 보았다. \n",
    "처음"
   ]
  }
 ],
 "metadata": {
  "kernelspec": {
   "display_name": "Python 3",
   "language": "python",
   "name": "python3"
  },
  "language_info": {
   "codemirror_mode": {
    "name": "ipython",
    "version": 3
   },
   "file_extension": ".py",
   "mimetype": "text/x-python",
   "name": "python",
   "nbconvert_exporter": "python",
   "pygments_lexer": "ipython3",
   "version": "3.8.3"
  }
 },
 "nbformat": 4,
 "nbformat_minor": 4
}
