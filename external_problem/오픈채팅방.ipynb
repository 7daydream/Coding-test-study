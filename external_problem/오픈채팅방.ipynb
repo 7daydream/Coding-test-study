{
 "cells": [
  {
   "cell_type": "markdown",
   "metadata": {},
   "source": [
    "# 오픈채팅방\n",
    "---\n",
    "\n",
    "**문제확인**\n",
    "\n",
    "https://programmers.co.kr/learn/courses/30/lessons/42888?language=python3\n"
   ]
  },
  {
   "cell_type": "code",
   "execution_count": 1,
   "metadata": {},
   "outputs": [],
   "source": [
    "def solution(record):\n",
    "    answer = []\n",
    "    member_name = {}\n",
    "    \n",
    "    for i in record:\n",
    "        splited_data = i.split()\n",
    "        if splited_data[0] == \"Enter\":\n",
    "            member_name[splited_data[1]] = splited_data[2]\n",
    "        elif splited_data[0] == \"Leave\":\n",
    "            continue\n",
    "        elif splited_data[0] == \"Change\":\n",
    "            member_name[splited_data[1]] = splited_data[2]\n",
    "    for i in record:\n",
    "        splited_data = i.split()\n",
    "        if splited_data[0] == \"Enter\":\n",
    "            answer.append(member_name[splited_data[1]] + \"님이 들어왔습니다.\")\n",
    "        elif splited_data[0] == \"Leave\":\n",
    "            answer.append(member_name[splited_data[1]] + \"님이 나갔습니다.\")\n",
    "        \n",
    "    return answer"
   ]
  },
  {
   "cell_type": "markdown",
   "metadata": {},
   "source": [
    "# 회고\n",
    "책의 연습문제가 아닌 실전 문제를 풀어보자는 취지에서 시작했다. \n",
    "문제 자체는 어렵게 느껴지지 않았지만 문자열을 다루는 능력이 필요할 것으로 보았다. \n",
    "\n",
    "근데 처음 문제를 보고 풀었을 때는 코드를 작성할수록 복잡해졌고 실패했다.\n",
    "id와 닉네임 두 개의 리스트를 이용하였기 때문에 문제를 해결하는데 너무 복잡하게 로직을 만들고 있었다.\n",
    "\n",
    "멤버의 id를 인덱스로 사용하고 닉네임을 저장하는 방식을 떠올려 코딩을 진행했을 때 처음은 이런 모습이었다\n",
    "\n",
    "```Python\n",
    "def solution(record):\n",
    "    answer = []\n",
    "    member_name = []\n",
    "\n",
    "    for i in record:\n",
    "        splited_data = i.split()\n",
    "        if splited_data[0] == \"Enter\":\n",
    "            member_name[splited_data[1]] = splited_data[2]\n",
    "        elif splited_data[0] == \"Leave\":\n",
    "            continue\n",
    "        elif splited_data[0] == \"Change\":\n",
    "            member_name[splited_data[1]] = splited_data[2]\n",
    "    for i in record:\n",
    "        splited_data = i.split()\n",
    "        if splited_data[0] == \"Enter\":\n",
    "            answer.append(member_name[splited_data[1]] + \"님이 들어왔습니다.\")\n",
    "        elif splited_data[0] == \"Leave\":\n",
    "            answer.append(member_name[splited_data[1]] + \"님이 나갔습니다.\")\n",
    "\n",
    "    return answer\n",
    "```\n",
    "\n",
    "하지만 타입 오류로 다음의 내용이 발생했다\n",
    "\n",
    "```\n",
    "TypeError: list indices must be integers or slices, not str\n",
    "```\n",
    "\n",
    "리스트의 인덱스로는 str을 사용할 수 없었던 것이 화근이었다. \n",
    "\n",
    "그 과정에서 ```member_name```을 새롭게 정의할 방법을 찾았고 Dictionary라는 것을 알 수 있었다.\n",
    "\n",
    "파이썬의 ```[]```, ```()```, ```{}```의 차이를 알아보고 블로그에 자세히 추가하여 공부해야겠다. \n",
    "Dictionary로 ```{}```를 이용하여 초기화를 했더니 코드가 원활하게 실행되었다."
   ]
  }
 ],
 "metadata": {
  "kernelspec": {
   "display_name": "Python 3",
   "language": "python",
   "name": "python3"
  },
  "language_info": {
   "codemirror_mode": {
    "name": "ipython",
    "version": 3
   },
   "file_extension": ".py",
   "mimetype": "text/x-python",
   "name": "python",
   "nbconvert_exporter": "python",
   "pygments_lexer": "ipython3",
   "version": "3.8.3"
  }
 },
 "nbformat": 4,
 "nbformat_minor": 4
}
