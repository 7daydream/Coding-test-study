{
 "cells": [
  {
   "cell_type": "markdown",
   "metadata": {},
   "source": [
    "# 1이 될 때까지\n",
    "\n",
    "> - 난이도 : 하\n",
    "> - 시간제한 : 1초\n",
    "> - 메모리 제한 : 128MB\n",
    "> - 기출 : 2018 E 기업 알고리즘 대회\n",
    "\n",
    "## 입력 조건\n",
    "\n",
    "> - 첫째 줄에 N(2<=N<=100,000)과 K(2<=K<=100,000)가 공백으로 구분되며 각각 자연수로 주어진다. 이 때 입력으로 주어지는 N은 항상 K보다 크거나 같다. \n",
    "\n",
    "## 출력 조건\n",
    "\n",
    "> - 첫째 줄에 N이 1이 될 때까지 1번 혹은 2번의 과정을 수행해야 하는 횟수의 최솟값을 출력한다. \n",
    "\n",
    "## 입력 & 출력 예시\n",
    "\n",
    "```\n",
    "//입력\n",
    "25 5\n",
    "```\n",
    "\n",
    "```\n",
    "//출력\n",
    "2\n",
    "```"
   ]
  },
  {
   "cell_type": "code",
   "execution_count": 4,
   "metadata": {},
   "outputs": [
    {
     "name": "stdout",
     "output_type": "stream",
     "text": [
      "25 3\n",
      "6\n"
     ]
    }
   ],
   "source": [
    "N, K = map(int, input().split())\n",
    "count = 0\n",
    "\n",
    "while N != 1:\n",
    "    if N%K == 0:\n",
    "        N = N/K\n",
    "        count = count + 1\n",
    "    else : \n",
    "        N = N - 1\n",
    "        count = count + 1\n",
    "\n",
    "print(count)"
   ]
  },
  {
   "cell_type": "markdown",
   "metadata": {},
   "source": [
    "# 회고\n",
    "1번은 1을 빼는 것이고, 2번은 나누는 것이기 때문에 다음과 같이 간단하게 생각을 해봤다.\n",
    "```\n",
    "1을 반복해 K의 배수가 될 때까지 빼고 카운트한다 -> 2번을 계속하면서 카운트한다 -> 앞의 두 가지를 반복하고 K보다 작아지면 1을 반복하고 카운트한다. -> 1이되면 결과를 출력\n",
    "```\n",
    "바로 입력을 받는 코드를 작성했다. \n",
    "한 번에 깔끔하게 실행되기는 했지만 사실 위의 생각의 것을 조금 건너뛰어서 작성해버렸다. \n",
    "운이 좋게 맞춘 문제라고 생각하"
   ]
  }
 ],
 "metadata": {
  "kernelspec": {
   "display_name": "Python 3",
   "language": "python",
   "name": "python3"
  },
  "language_info": {
   "codemirror_mode": {
    "name": "ipython",
    "version": 3
   },
   "file_extension": ".py",
   "mimetype": "text/x-python",
   "name": "python",
   "nbconvert_exporter": "python",
   "pygments_lexer": "ipython3",
   "version": "3.8.3"
  }
 },
 "nbformat": 4,
 "nbformat_minor": 4
}
