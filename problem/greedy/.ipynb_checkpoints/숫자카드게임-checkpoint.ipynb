{
 "cells": [
  {
   "cell_type": "markdown",
   "metadata": {},
   "source": [
    "# 숫자 카드 게임\n",
    "\n",
    "> - 난이도 : 하\n",
    "> - 시간 제한 : 1초\n",
    "> - 메모리 제한 : 128MB\n",
    "> - 기출 : 2019 국가 교육기관 코딩 테스트\n",
    "\n",
    "## 입력 조건\n",
    "\n",
    "> - 첫째 줄에 숫자 카드들이 놓인 행의 개수 N과 열의 개수 M이 공백을 기준으로 하여 각각 자연수로 주어진다.(1 <= N, M <= 100)\n",
    "> - 둘째 줄부터 N개의 줄에 걸쳐 각 카드에 적힌 숫자가 주어진다. 각 숫자는 1 이상 10000 이하의 자연수이다.\n",
    "\n",
    "## 출력 조건\n",
    "\n",
    "> - 첫째 줄에 게임의 룰에 맞게 선택한 카드에 적힌 숫자를 출력한다. \n",
    "\n",
    "## 입력 & 출력 예시 1\n",
    "\n",
    "```\n",
    "// 입력\n",
    "3 3\n",
    "3 1 2\n",
    "4 1 4\n",
    "2 2 2\n",
    "```\n",
    "\n",
    "```\n",
    "// 출력\n",
    "2\n",
    "```\n",
    "\n",
    "## 입력 & 출력 예시 2\n",
    "\n",
    "```\n",
    "// 입력\n",
    "2 4\n",
    "7 3 1 8\n",
    "3 3 3 4\n",
    "```\n",
    "\n",
    "```\n",
    "// 출력\n",
    "3\n",
    "```"
   ]
  },
  {
   "cell_type": "code",
   "execution_count": 5,
   "metadata": {},
   "outputs": [
    {
     "name": "stdout",
     "output_type": "stream",
     "text": [
      "2 4\n",
      "7 3 1 8\n",
      "3 3 3 4\n",
      "3\n"
     ]
    }
   ],
   "source": [
    "N, M = map(int, input().split())\n",
    "tmp = 0\n",
    "\n",
    "for i in range(N):\n",
    "    a = list(map(int, input().split()))\n",
    "    a.sort()\n",
    "    if a[0] > tmp:\n",
    "        tmp = a[0]\n",
    "        \n",
    "print(tmp)"
   ]
  },
  {
   "cell_type": "markdown",
   "metadata": {},
   "source": [
    "# 회고\n",
    "\n",
    "첫 행부터 시작해서 가장 작은 수를 찾고 그 수와 다음 행의 가장 작은 수 중 큰 수를 선택해 나간다는 생각으로 문제에 접근했다. \n",
    "처음에 2차원 배열로 입력을 받으려다 문제는 쉬운데 구현을 어렵게 생각했었는데\n",
    "각 행별로 처리를 한다 생각하니 문제를 생각보다 쉽게 해결할 수 있었다. \n",
    "\n",
    "파이썬의 sort 함수를 이용하여 문제를 풀었는데 파이썬에는 리스트의 가장 작은 원소를 찾아주는 min() 함수가 있었다.\n",
    "\n",
    "다음에 사용할 기회가 있으면 min() 함수를 쓰는걸로..."
   ]
  }
 ],
 "metadata": {
  "kernelspec": {
   "display_name": "Python 3",
   "language": "python",
   "name": "python3"
  },
  "language_info": {
   "codemirror_mode": {
    "name": "ipython",
    "version": 3
   },
   "file_extension": ".py",
   "mimetype": "text/x-python",
   "name": "python",
   "nbconvert_exporter": "python",
   "pygments_lexer": "ipython3",
   "version": "3.8.3"
  }
 },
 "nbformat": 4,
 "nbformat_minor": 4
}
