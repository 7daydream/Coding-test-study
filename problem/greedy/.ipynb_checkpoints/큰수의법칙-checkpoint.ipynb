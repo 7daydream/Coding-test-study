{
 "cells": [
  {
   "cell_type": "markdown",
   "metadata": {},
   "source": [
    "# 입력 조건\n",
    "\n",
    "## 큰 수의 법칙\n",
    "\n",
    "> - 난이도 하\n",
    "> - 풀이 시간 30분\n",
    "> - 시간 제한 1초\n",
    "> - 메모리 제한 128 MB\n",
    "> - 기출 : 2019 국가 교육기관 코딩 테스트\n",
    "\n",
    "### 입력 조건\n",
    "> - 첫째 줄에 N(2 <= N <= 1000), M(1 <= M <= 10000), K(1 <= K <= 10000)의 자연수가 주어지며, 각 자연수는 공백으로 구분한다\n",
    "> - 둘째 줄에 N개의 자연수가 주어진다. 각 자연수는 공백으로 구분한다. 단, 각각의 자연수는 1이상 10000 이하의 수로 주어진다. \n",
    "> - 입력으로 주어지는 K는 항상 M보다 작거나 같다\n",
    "\n",
    "### 출력 조건\n",
    "> - 첫째 줄에 동빈이의 큰 수의 법칙에 따라 더해진 답을 출력한다."
   ]
  },
  {
   "cell_type": "code",
   "execution_count": 1,
   "metadata": {},
   "outputs": [
    {
     "name": "stdout",
     "output_type": "stream",
     "text": [
      "5 8 3\n",
      "2 4 5 4 6\n",
      "46\n"
     ]
    }
   ],
   "source": [
    "N, M, K = map(int, input().split())\n",
    "a = list(map(int, input().split()))\n",
    "\n",
    "a.sort()\n",
    "n1 = a[N-1]\n",
    "n2 = a[N-2]\n",
    "result = 0\n",
    "count = 0\n",
    "ifn = 0\n",
    "\n",
    "while True:\n",
    "    if count == M:\n",
    "        break\n",
    "    if ifn == 0:\n",
    "        for i in range(K):\n",
    "            if count == M:\n",
    "                break\n",
    "            result = result + n1\n",
    "            count = count + 1\n",
    "        ifn = 1\n",
    "    elif ifn == 1:\n",
    "        if count == M:\n",
    "            break\n",
    "        result = result + n2\n",
    "        count = count + 1\n",
    "        ifn = 0\n",
    "\n",
    "print(result)"
   ]
  },
  {
   "cell_type": "markdown",
   "metadata": {},
   "source": [
    "# 회고\n",
    "\n",
    "풀이 일자 : 2021-03-22\n",
    "\n",
    "문제를 해결한 후 문제 해설을 읽어보았다.\n",
    "\n",
    "ifn, count 변수는 굳이 만들지 않아도 되는 변수였다..\n",
    "이로인해 메모리 낭비도 있었고, 전체적인 풀이 로직을 어렵게 생각하게 되었다고 생각한다.\n",
    "\n",
    "심지어 M의 크기가 극단적으로 커질 경우 시간 초과 판정을 받을 수도 있다고 한다. \n",
    "이 경우는 더해질 때 수열을 고려하여 가장 큰 수가 더해지는 횟수를 계산한 뒤 계산을 진행하여 더욱 효율적인 코드를 작성할 수 있다고 한다. \n",
    "효율적인 코드는 아래의 코드이다. \n",
    "\n",
    "```python\n",
    "# N, M, K를 공백으로 구분하여 입력받기\n",
    "n, m, k = map(int, input().split())\n",
    "# N개의 수를 공백으로 구분하여 입력받기\n",
    "data = list(map(int, input().split()))\n",
    "\n",
    "data.sort()\n",
    "first = data[n-1] # 가장 큰 수\n",
    "second = data[n-2] # 두 번째로 큰 수\n",
    "\n",
    "# 가장 큰 수가 더해지는 횟수 계산\n",
    "count = int(m / (k + 1)) * k\n",
    "count += m % (k + 1)\n",
    "\n",
    "result = 0\n",
    "result += count * first # 가장 큰 수 더하기\n",
    "result += (m-count) * second # 남은 count만큼 두 번째로 큰 수 더하기\n",
    "\n",
    "print(result)\n",
    "```\n",
    "\n",
    "변수먼저 짓고 생각하지 말고 차분하게 전체적으로 생각을 해봐야겠다.\n",
    "\n",
    "그리고 빨리 파이썬 문법에도 익숙해져야 겠다."
   ]
  }
 ],
 "metadata": {
  "kernelspec": {
   "display_name": "Python 3",
   "language": "python",
   "name": "python3"
  },
  "language_info": {
   "codemirror_mode": {
    "name": "ipython",
    "version": 3
   },
   "file_extension": ".py",
   "mimetype": "text/x-python",
   "name": "python",
   "nbconvert_exporter": "python",
   "pygments_lexer": "ipython3",
   "version": "3.8.3"
  }
 },
 "nbformat": 4,
 "nbformat_minor": 4
}
