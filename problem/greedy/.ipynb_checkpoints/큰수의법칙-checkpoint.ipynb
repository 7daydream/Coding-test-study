{
 "cells": [
  {
   "attachments": {},
   "cell_type": "markdown",
   "metadata": {},
   "source": [
    "# 회고\n",
    "\n",
    "문제를 해결한 후 문제 해설을 읽어보았다.\n",
    "\n",
    "ifn, count 변수는 굳이 만들지 않아도 되는 변수였다..\n",
    "이로인해 메모리 낭비도 있었고, 전체적인 풀이 로직을 어렵게 생각하게 되었다고 생각한다.\n",
    "\n",
    "변수먼저 짓고 생각하지 말고 차분하게 전체적으로 생각을 해봐야겠다.\n",
    "\n",
    "그리고 빨리 파이썬 문법에도 익숙해져야 겠다."
   ]
  },
  {
   "cell_type": "code",
   "execution_count": 1,
   "metadata": {},
   "outputs": [
    {
     "name": "stdout",
     "output_type": "stream",
     "text": [
      "5 8 3\n",
      "2 4 5 4 6\n",
      "46\n"
     ]
    }
   ],
   "source": [
    "N, M, K = map(int, input().split())\n",
    "a = list(map(int, input().split()))\n",
    "\n",
    "a.sort()\n",
    "n1 = a[N-1]\n",
    "n2 = a[N-2]\n",
    "result = 0\n",
    "count = 0\n",
    "ifn = 0\n",
    "\n",
    "while True:\n",
    "    if count == M:\n",
    "        break\n",
    "    if ifn == 0:\n",
    "        for i in range(K):\n",
    "            if count == M:\n",
    "                break\n",
    "            result = result + n1\n",
    "            count = count + 1\n",
    "        ifn = 1\n",
    "    elif ifn == 1:\n",
    "        if count == M:\n",
    "            break\n",
    "        result = result + n2\n",
    "        count = count + 1\n",
    "        ifn = 0\n",
    "\n",
    "print(result)"
   ]
  },
  {
   "cell_type": "code",
   "execution_count": null,
   "metadata": {},
   "outputs": [],
   "source": []
  }
 ],
 "metadata": {
  "kernelspec": {
   "display_name": "Python 3",
   "language": "python",
   "name": "python3"
  },
  "language_info": {
   "codemirror_mode": {
    "name": "ipython",
    "version": 3
   },
   "file_extension": ".py",
   "mimetype": "text/x-python",
   "name": "python",
   "nbconvert_exporter": "python",
   "pygments_lexer": "ipython3",
   "version": "3.8.3"
  }
 },
 "nbformat": 4,
 "nbformat_minor": 4
}
