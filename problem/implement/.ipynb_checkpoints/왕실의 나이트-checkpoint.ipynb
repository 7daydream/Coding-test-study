{
 "cells": [
  {
   "cell_type": "markdown",
   "metadata": {},
   "source": [
    "# 왕실의 나이트\n",
    "\n",
    "> - 난이도 : 하\n",
    "> - 풀이 시간 : 20분\n",
    "> - 시간 제한 : 1초\n",
    "> - 메모리 제한 : 128MB\n",
    "\n",
    "```\n",
    "여기 나이트는 조금 특이하게 L자 형태로만 이동이 가능하며 8*8 좌표 평면 밖으로는 나갈 수 없다. \n",
    "8*8 좌표 평면에서 행 위치를 표현할 때는 1부터 8로 표현하며, 열 위치를 표현할 때는 a부터 h로 표현\n",
    "\n",
    "나이트가 이동하는 경우는 크게 2가지이다.\n",
    "    1. 수평으로 두 칸 이동한 뒤에 수직으로 한 칸 이동하기\n",
    "    2. 수직으로 두 칸 이동한 뒤에 수평으로 한 칸 이동하기\n",
    "나이트가 이동할 수 있는 경우의 수를 출력하시오.\n",
    "```\n",
    "\n",
    "## 입력 조건\n",
    "\n",
    "> - 첫째 줄에 8X8 좌표 평면상에서 현재 나이트가 위치한 곳의 좌표를 나타내는 두 문자로 구성된 문자열이 입력된다. 입력 문자는 a1처럼 열과 행으로 이뤄진다. \n",
    "\n",
    "## 출력 조건\n",
    "\n",
    "> - 첫째 줄에 나이트가 이동할 수 있는 경우의 수를 출력하시오.\n",
    "\n",
    "## 입력 & 출력 예시\n",
    "\n",
    "\n",
    "**입력**\n",
    "```\n",
    "a1\n",
    "```\n",
    "\n",
    "**출력**\n",
    "```\n",
    "2\n",
    "```"
   ]
  },
  {
   "cell_type": "code",
   "execution_count": 1,
   "metadata": {},
   "outputs": [
    {
     "name": "stdout",
     "output_type": "stream",
     "text": [
      "a1\n",
      "2\n"
     ]
    }
   ],
   "source": [
    "data = input()\n",
    "\n",
    "if data[0] == 'a':\n",
    "    n1 = 0\n",
    "elif data[0] == 'b':\n",
    "    n1 = 1\n",
    "elif data[0] == 'c':\n",
    "    n1 = 2\n",
    "elif data[0] == 'd':\n",
    "    n1 = 3\n",
    "elif data[0] == 'e':\n",
    "    n1 = 4\n",
    "elif data[0] == 'f':\n",
    "    n1 = 5\n",
    "elif data[0] == 'g':\n",
    "    n1= 6\n",
    "elif data[0] == 'h':\n",
    "    n1 = 7\n",
    "n2 = (int)(data[1]) - 1\n",
    "count = 8\n",
    "\n",
    "if (n1 - 2) < 0 or (n2 - 1) < 0:\n",
    "    count -= 1\n",
    "if (n1 - 2) < 0 or (n2 + 1) > 7:\n",
    "    count -= 1\n",
    "if (n1 + 2) > 7 or (n2 - 1) < 0:\n",
    "    count -= 1\n",
    "if (n1 + 2) > 8 or (n2 + 1) > 7:\n",
    "    count -= 1\n",
    "if (n2 - 2) < 0 or (n1 - 1) < 0:\n",
    "    count -= 1\n",
    "if (n2 - 2) < 0 or (n1 + 1) > 7:\n",
    "    count -= 1\n",
    "if (n2 + 2) > 7 or (n1 - 1) < 0:\n",
    "    count -= 1\n",
    "if (n2 + 2) > 7 or (n1 + 1) > 7:\n",
    "    count -= 1\n",
    "\n",
    "print(count)"
   ]
  },
  {
   "cell_type": "code",
   "execution_count": 2,
   "metadata": {},
   "outputs": [
    {
     "name": "stdout",
     "output_type": "stream",
     "text": [
      "a1\n",
      "2\n"
     ]
    }
   ],
   "source": [
    "# 현재 나이트의 위치 입력받기\n",
    "input_data = input()\n",
    "row = int(input_data[1])\n",
    "column = int(ord(input_data[0])) - int(ord('a')) + 1\n",
    "\n",
    "# 나이트가 이동가능한 8가지 방향 정의\n",
    "steps = [\n",
    "    (-2, -1), (-1, -2), (1, -2), (2, -1),\n",
    "    (2, 1), (1, 2), (-1, 2), (-2, 1)\n",
    "]\n",
    "\n",
    "# 8가지 방향에 대하여 각 위치로 이동이 가능한지 확인\n",
    "result = 0\n",
    "for step in steps:\n",
    "    # 이동하고자 하는 위치 확인\n",
    "    next_row = row + step[0]\n",
    "    next_column = column + step[1]\n",
    "    # 해당 위치로 이동이 가능하다면 카운트 증가\n",
    "    if next_row >= 1 and next_row <= 8 and next_column >= 1 and next_column <= 8:\n",
    "        result += 1\n",
    "\n",
    "print(result)"
   ]
  },
  {
   "cell_type": "markdown",
   "metadata": {},
   "source": [
    "# 회고\n",
    "\n",
    "상당히 무식하게 풀이를 진행했다... \n",
    "ord()를 이전에 사용해본 적이 있으면서도 하드코딩 스타일로 변수를 초기화했다.\n",
    "또한 8가지 방향을 정의하는 것을 보면서 리스트를 새롭게 사용할 방법을 생각해볼 수 있었다. "
   ]
  }
 ],
 "metadata": {
  "kernelspec": {
   "display_name": "Python 3",
   "language": "python",
   "name": "python3"
  },
  "language_info": {
   "codemirror_mode": {
    "name": "ipython",
    "version": 3
   },
   "file_extension": ".py",
   "mimetype": "text/x-python",
   "name": "python",
   "nbconvert_exporter": "python",
   "pygments_lexer": "ipython3",
   "version": "3.8.3"
  }
 },
 "nbformat": 4,
 "nbformat_minor": 4
}
