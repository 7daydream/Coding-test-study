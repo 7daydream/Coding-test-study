{
 "cells": [
  {
   "cell_type": "markdown",
   "metadata": {},
   "source": [
    "# 시각\n",
    "\n",
    "> - 난이도 : 하\n",
    "> - 풀이 시간 : 15분\n",
    "> - 시간 제한 : 2초\n",
    "> - 메모리 제한 : 128MB\n",
    "\n",
    "```\n",
    "정수 N이 입력되면 00시 00분 00초로부터 N시 59분 59초까지의 모든 시각 중에서 3이 하나라도 포함되는 모든 경우의 수를 구하는 프로그램을 작성\n",
    "```\n",
    "\n",
    "## 입력 조건\n",
    "\n",
    "> - 첫째 줄에 정수 N이 입력된다.(0<=N<=23)\n",
    "\n",
    "## 출력 조건\n",
    "\n",
    "> - 00시 00분 00초부터 N시 59분 59초까지의 모든 시각 중에서 3이 하나라도 포함되는 모든 경우의 수를 출력한다. "
   ]
  },
  {
   "cell_type": "code",
   "execution_count": 2,
   "metadata": {},
   "outputs": [
    {
     "name": "stdout",
     "output_type": "stream",
     "text": [
      "23\n",
      "43875\n"
     ]
    }
   ],
   "source": [
    "def check(sec, minute, hour):\n",
    "    if sec in [3, 13, 23, 30, 31, 32, 33, 34, 35, 36, 37, 38, 39 ,43, 53]:\n",
    "        return 1\n",
    "    elif minute in [3, 13, 23, 30, 31, 32, 33, 34, 35, 36, 37, 38, 39 ,43, 53]:\n",
    "        return 1\n",
    "    elif hour in [3, 13, 23]:\n",
    "        return 1\n",
    "    else:\n",
    "        return 0\n",
    "\n",
    "n = int(input())\n",
    "\n",
    "count = 0\n",
    "sec = 0 \n",
    "minute = 0\n",
    "hour = 0\n",
    "\n",
    "while True:\n",
    "    count = count + check(sec, minute, hour)\n",
    "    if sec == 59 and minute == 59 :\n",
    "        if hour == n:\n",
    "            break\n",
    "        elif hour < n:\n",
    "            hour = hour + 1\n",
    "            sec = 0\n",
    "            minute = 0\n",
    "    elif sec == 59:\n",
    "        sec = 0\n",
    "        minute = minute + 1\n",
    "    else:\n",
    "        sec = sec + 1\n",
    "        \n",
    "print(count)"
   ]
  },
  {
   "cell_type": "code",
   "execution_count": 1,
   "metadata": {},
   "outputs": [
    {
     "name": "stdout",
     "output_type": "stream",
     "text": [
      "23\n",
      "43875\n"
     ]
    }
   ],
   "source": [
    "h = int(input())\n",
    "\n",
    "count = 0\n",
    "for i in range(h+1):\n",
    "    for j in range(60):\n",
    "        for k in range(60):\n",
    "            if '3' in str(i) + str(j) + str(k):\n",
    "                count += 1\n",
    "print(count)"
   ]
  },
  {
   "cell_type": "markdown",
   "metadata": {},
   "source": [
    "# 회고\n",
    "시간, 분, 초를 각각 저장할 변수를 만들고 전체를 반복하여 카운트 하는 방식을 생각하고 구현을 하기로 했다. \n",
    "\n",
    "그냥 궁금해서 00시 00분 00초에서 00시 59분 59초가 몇 초인지를 먼저 계산했다.\n",
    "```Python\n",
    "count = 1 # 00시 00분 00초도 1초로 세야 하기 때문에 1초 세고 시작\n",
    "sec = 0 \n",
    "minute = 0\n",
    "\n",
    "while True:\n",
    "    if sec == 59 and minute == 59 :\n",
    "        print(count)\n",
    "        break\n",
    "    elif sec == 59:\n",
    "        sec = 0\n",
    "        minute = minute + 1\n",
    "        count = count + 1\n",
    "    else:\n",
    "        sec = sec + 1\n",
    "        count = count + 1\n",
    "```\n",
    "결과는 3600초였다. 이걸 24시간 반복한다고 해도 사실 많은 반복수를 가지지 않는다는 것이 조금 신기했다. 그래서 전체를 탐색하면서 카운팅해도 되겠다는 생각을 했다.\n",
    "\n",
    "다음으로 고민한 것은 3이 들어있는 것을 어떻게 체크하냐였다. 내가 생각한 방식은 이랬다. \n",
    "> - 나머지 연산을 이용해서 30으로 나눈 나머지가 10보다 작으면 30대 숫자이므로 3이 포함된다.\n",
    "> - 10의 배수로 나누었을 때 나머지가 3이면 1의 자리가 3이므로 카운팅한다. \n",
    "\n",
    "위 방식을 기반으로 check() 함수를 만들어 1초씩 늘려 시간을 돌 때 확인하기로 했다. \n",
    "\n",
    "```Python\n",
    "def check(sec, minute, hour):\n",
    "    if (sec % 30) < 10:\n",
    "        return 1\n",
    "```\n",
    "처음에는 30으로 나누어 나머지가 10보다 작으면 10의 자리 숫자가 3이라고 생각하여 코딩을 진행했고 정답을 맞출 수 없었다. 왜냐하면 10보다 작은 숫자 또한 카운팅하고 있기 때문이었다. \n",
    "\n",
    "그래서 그냥 무식하게 카운팅해야 하는 숫자 목록이 많지 않으니 리스트로 만들고 멤버에 포함되는지를 확인했다...\n",
    "\n",
    "정답은 정답이었는데 너무 무식하게 코딩한 기분이었다. 아래의 정답 코드를 보면서 문자열의 형태로 형변환을 하고 진행하는 것도 좋아보였다."
   ]
  }
 ],
 "metadata": {
  "kernelspec": {
   "display_name": "Python 3",
   "language": "python",
   "name": "python3"
  },
  "language_info": {
   "codemirror_mode": {
    "name": "ipython",
    "version": 3
   },
   "file_extension": ".py",
   "mimetype": "text/x-python",
   "name": "python",
   "nbconvert_exporter": "python",
   "pygments_lexer": "ipython3",
   "version": "3.8.3"
  }
 },
 "nbformat": 4,
 "nbformat_minor": 4
}
