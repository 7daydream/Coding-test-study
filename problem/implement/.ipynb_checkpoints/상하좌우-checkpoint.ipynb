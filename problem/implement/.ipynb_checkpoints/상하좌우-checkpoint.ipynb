{
 "cells": [
  {
   "cell_type": "markdown",
   "metadata": {},
   "source": [
    "# 상하좌우\n",
    "\n",
    "> - 난이도 : 하\n",
    "> - 풀이 시간 : 15분\n",
    "> - 시간 제한 : 1초\n",
    "> - 메모리 제한 : 128MB\n",
    "\n",
    "```\n",
    "N*N 크기의 정사각형 공간이 있다. \n",
    "가장 왼쪽 위 좌표는 (1,1), 가장 오른쪽 아래 좌표는 (N,N)이 된다. \n",
    "계획서가 주어지고 계획서에 들어갈 문자는 다음과 같다.\n",
    "- L : 왼쪽으로 한 칸 이동\n",
    "- R : 오른쪽으로 한 칸 이동\n",
    "- U : 위로 한 칸 이동\n",
    "- D : 아래로 한 칸 이동\n",
    "이 때 N*N 정사각형 공간을 벗어나는 움직임은 무시한다\n",
    "```\n",
    "\n",
    "## 입력 조건\n",
    "\n",
    "> - 첫째 줄에 공간의 크기를 나타내는 N이 주어진다. (1 <= N <= 100)\n",
    "> - 둘째 줄에 여행가 A가 이동할 계획서 내용이 주어진다.(1 <= 이동횟수 <= 100)\n",
    "\n",
    "## 출력 조건\n",
    "\n",
    "> - 첫째 줄에 여행가 A가 최종적으로 도착할 지점의 좌표 (X, Y)를 공백으로 구분하여 출력한다. \n",
    "\n",
    "## 입력 & 출력 예시\n",
    "\n",
    "```\n",
    "//입력\n",
    "5\n",
    "R R R U D D\n",
    "```\n",
    "\n",
    "```\n",
    "//출력\n",
    "3 4\n",
    "```"
   ]
  },
  {
   "cell_type": "code",
   "execution_count": 1,
   "metadata": {},
   "outputs": [
    {
     "name": "stdout",
     "output_type": "stream",
     "text": [
      "5\n",
      "R R R U D D\n",
      "3 4\n"
     ]
    }
   ],
   "source": [
    "N = int(input())\n",
    "move = list(map(str, input().split()))\n",
    "\n",
    "state = [1,1]\n",
    "\n",
    "for i in move:\n",
    "    if i == 'R' :\n",
    "        if state[1] == N : \n",
    "            continue\n",
    "        else :\n",
    "            state[1] = state[1] + 1\n",
    "    elif i == 'L' :\n",
    "        if state[1] == 1 : \n",
    "            continue\n",
    "        else :\n",
    "            state[1] = state[1] - 1\n",
    "    elif i == 'U' :\n",
    "        if state[0] == 1 :\n",
    "            continue\n",
    "        else :\n",
    "            state[0] = state[0] - 1\n",
    "    elif i == 'D' :\n",
    "        if state[0] == N :\n",
    "            continue\n",
    "        else : \n",
    "            state[0] = state[0] + 1\n",
    "    else :\n",
    "        print(\"오류\")\n",
    "print('%d %d'%(state[0], state[1]))"
   ]
  },
  {
   "cell_type": "markdown",
   "metadata": {},
   "source": [
    "# 회고\n",
    "\n",
    "구현 파트 첫 연습문제로 풀어보았다. 리스트를 이용하여 좌표값을 나타내보고 반복문과 if문의 기초를 연습해볼 수 있었다. \n",
    "이번 구현 파트를 통해 파이썬 문법을 다듬어가는 기회가 되었으면 좋겠다. "
   ]
  }
 ],
 "metadata": {
  "kernelspec": {
   "display_name": "Python 3",
   "language": "python",
   "name": "python3"
  },
  "language_info": {
   "codemirror_mode": {
    "name": "ipython",
    "version": 3
   },
   "file_extension": ".py",
   "mimetype": "text/x-python",
   "name": "python",
   "nbconvert_exporter": "python",
   "pygments_lexer": "ipython3",
   "version": "3.8.3"
  }
 },
 "nbformat": 4,
 "nbformat_minor": 4
}
