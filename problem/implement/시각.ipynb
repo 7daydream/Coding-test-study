{
 "cells": [
  {
   "cell_type": "markdown",
   "metadata": {},
   "source": [
    "# 시각\n",
    "\n",
    "> - 난이도 : 하\n",
    "> - 풀이 시간 : 15분\n",
    "> - 시간 제한 : 2초\n",
    "> -메모리 제한 : 128MB\n",
    "\n",
    "```\n",
    "정수 N이 입력되면 00시 00분 00초로부터 N시 59분 59초까지의 모든 시각 중에서 3이 하나라도 포함되는 모든 경우의 수를 구하는 프로그램을 작성\n",
    "```\n",
    "\n",
    "## 입력 조건\n",
    "\n",
    "> - 첫째 줄에 정수 N이 입력된다.(0<=N<=23)\n",
    "\n",
    "## 출력 조건\n",
    "\n",
    "> - 00시 00분 00초부터 N시 59분 59초까지의 모든 시각 중에서 3이 하나라도 포함되는 모든 경우의 수를 출력한다. "
   ]
  },
  {
   "cell_type": "code",
   "execution_count": null,
   "metadata": {},
   "outputs": [],
   "source": []
  },
  {
   "cell_type": "markdown",
   "metadata": {},
   "source": [
    "# 회고\n",
    "시간, 분, 초를 각각 저장할 변수를 만들고 전체를 반복하여 카운트 하는 방식을 생각하고 구현을 하기로 했다. "
   ]
  }
 ],
 "metadata": {
  "kernelspec": {
   "display_name": "Python 3",
   "language": "python",
   "name": "python3"
  },
  "language_info": {
   "codemirror_mode": {
    "name": "ipython",
    "version": 3
   },
   "file_extension": ".py",
   "mimetype": "text/x-python",
   "name": "python",
   "nbconvert_exporter": "python",
   "pygments_lexer": "ipython3",
   "version": "3.8.3"
  }
 },
 "nbformat": 4,
 "nbformat_minor": 4
}
